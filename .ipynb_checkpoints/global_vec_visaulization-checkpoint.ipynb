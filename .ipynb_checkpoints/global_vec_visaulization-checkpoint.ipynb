{
 "cells": [
  {
   "cell_type": "code",
   "execution_count": 62,
   "metadata": {},
   "outputs": [],
   "source": [
    "import pandas as pd\n",
    "from glob import glob\n",
    "import numpy as np\n",
    "import matplotlib.pyplot as plt\n",
    "from tqdm import tqdm\n",
    "import os\n",
    "from skimage.color import label2rgb\n",
    "import numpy as np\n",
    "import cv2"
   ]
  },
  {
   "cell_type": "code",
   "execution_count": 3,
   "metadata": {},
   "outputs": [],
   "source": [
    "img_list = glob(\"/home/emilioty/ws/datasets/INRIA/INRIA_osm/train/patch_descriptor_vectors_full/patch_*\")\n",
    "original_patch = glob(\"/home/emilioty/ws/datasets/INRIA/INRIA_256_128_background_filtered/train/images/*.jpg\")"
   ]
  },
  {
   "cell_type": "code",
   "execution_count": 64,
   "metadata": {},
   "outputs": [],
   "source": [
    "img_name = img_list[100888]"
   ]
  },
  {
   "cell_type": "code",
   "execution_count": 65,
   "metadata": {},
   "outputs": [
    {
     "data": {
      "text/plain": [
       "{3, 5, 6}"
      ]
     },
     "execution_count": 65,
     "metadata": {},
     "output_type": "execute_result"
    }
   ],
   "source": [
    "img = np.load(img_name)\n",
    "img_name\n",
    "a = []\n",
    "for i in img: a+=list(i)\n",
    "set(a)"
   ]
  },
  {
   "cell_type": "code",
   "execution_count": 66,
   "metadata": {},
   "outputs": [
    {
     "data": {
      "text/plain": [
       "(<matplotlib.image.AxesImage at 0x7f5c582c7b50>,\n",
       " '/home/emilioty/ws/datasets/INRIA/INRIA_osm/train/patch_descriptor_vectors_full/patch_tyrol-w16_2304_4224.npy')"
      ]
     },
     "execution_count": 66,
     "metadata": {},
     "output_type": "execute_result"
    },
    {
     "data": {
      "image/png": "[encoded data removed]",
      "text/plain": [
       "<Figure size 432x288 with 1 Axes>"
      ]
     },
     "metadata": {
      "needs_background": "light"
     },
     "output_type": "display_data"
    }
   ],
   "source": [
    "plt.imshow(img), img_name"
   ]
  },
  {
   "cell_type": "code",
   "execution_count": 16,
   "metadata": {},
   "outputs": [
    {
     "data": {
      "text/html": [
       "<div>\n",
       "<style scoped>\n",
       "    .dataframe tbody tr th:only-of-type {\n",
       "        vertical-align: middle;\n",
       "    }\n",
       "\n",
       "    .dataframe tbody tr th {\n",
       "        vertical-align: top;\n",
       "    }\n",
       "\n",
       "    .dataframe thead th {\n",
       "        text-align: right;\n",
       "    }\n",
       "</style>\n",
       "<table border=\"1\" class=\"dataframe\">\n",
       "  <thead>\n",
       "    <tr style=\"text-align: right;\">\n",
       "      <th></th>\n",
       "      <th>Unnamed: 0</th>\n",
       "      <th>category</th>\n",
       "      <th>sub_cat</th>\n",
       "      <th>code</th>\n",
       "    </tr>\n",
       "  </thead>\n",
       "  <tbody>\n",
       "    <tr>\n",
       "      <th>0</th>\n",
       "      <td>0</td>\n",
       "      <td>urban</td>\n",
       "      <td>{'public', 'retail', 'commercial'}</td>\n",
       "      <td>1</td>\n",
       "    </tr>\n",
       "    <tr>\n",
       "      <th>1</th>\n",
       "      <td>1</td>\n",
       "      <td>industrial</td>\n",
       "      <td>{'garages', 'industrial', 'depot', 'constructi...</td>\n",
       "      <td>2</td>\n",
       "    </tr>\n",
       "    <tr>\n",
       "      <th>2</th>\n",
       "      <td>2</td>\n",
       "      <td>residential</td>\n",
       "      <td>{'residential'}</td>\n",
       "      <td>3</td>\n",
       "    </tr>\n",
       "    <tr>\n",
       "      <th>3</th>\n",
       "      <td>3</td>\n",
       "      <td>farmland</td>\n",
       "      <td>{'farmland', 'orchard', 'plant_nursery', 'vine...</td>\n",
       "      <td>4</td>\n",
       "    </tr>\n",
       "    <tr>\n",
       "      <th>4</th>\n",
       "      <td>4</td>\n",
       "      <td>grass</td>\n",
       "      <td>{'village_green', 'grass', 'meadow', 'greenfie...</td>\n",
       "      <td>5</td>\n",
       "    </tr>\n",
       "    <tr>\n",
       "      <th>5</th>\n",
       "      <td>5</td>\n",
       "      <td>forest</td>\n",
       "      <td>{'forest'}</td>\n",
       "      <td>6</td>\n",
       "    </tr>\n",
       "    <tr>\n",
       "      <th>6</th>\n",
       "      <td>6</td>\n",
       "      <td>brownfield</td>\n",
       "      <td>{'brownfield', 'landfill'}</td>\n",
       "      <td>7</td>\n",
       "    </tr>\n",
       "    <tr>\n",
       "      <th>7</th>\n",
       "      <td>7</td>\n",
       "      <td>water</td>\n",
       "      <td>{'basin', 'salt_pond', 'reservoir'}</td>\n",
       "      <td>8</td>\n",
       "    </tr>\n",
       "    <tr>\n",
       "      <th>8</th>\n",
       "      <td>8</td>\n",
       "      <td>port</td>\n",
       "      <td>{'port'}</td>\n",
       "      <td>9</td>\n",
       "    </tr>\n",
       "    <tr>\n",
       "      <th>9</th>\n",
       "      <td>9</td>\n",
       "      <td>religious</td>\n",
       "      <td>{'religious', 'cemetery'}</td>\n",
       "      <td>10</td>\n",
       "    </tr>\n",
       "    <tr>\n",
       "      <th>10</th>\n",
       "      <td>10</td>\n",
       "      <td>quarry</td>\n",
       "      <td>{'quarry'}</td>\n",
       "      <td>11</td>\n",
       "    </tr>\n",
       "    <tr>\n",
       "      <th>11</th>\n",
       "      <td>11</td>\n",
       "      <td>railway</td>\n",
       "      <td>{'railway'}</td>\n",
       "      <td>12</td>\n",
       "    </tr>\n",
       "    <tr>\n",
       "      <th>12</th>\n",
       "      <td>12</td>\n",
       "      <td>recreation_ground</td>\n",
       "      <td>{'recreation_ground'}</td>\n",
       "      <td>13</td>\n",
       "    </tr>\n",
       "    <tr>\n",
       "      <th>13</th>\n",
       "      <td>13</td>\n",
       "      <td>no_cat</td>\n",
       "      <td>set()</td>\n",
       "      <td>14</td>\n",
       "    </tr>\n",
       "  </tbody>\n",
       "</table>\n",
       "</div>"
      ],
      "text/plain": [
       "    Unnamed: 0           category  \\\n",
       "0            0              urban   \n",
       "1            1         industrial   \n",
       "2            2        residential   \n",
       "3            3           farmland   \n",
       "4            4              grass   \n",
       "5            5             forest   \n",
       "6            6         brownfield   \n",
       "7            7              water   \n",
       "8            8               port   \n",
       "9            9          religious   \n",
       "10          10             quarry   \n",
       "11          11            railway   \n",
       "12          12  recreation_ground   \n",
       "13          13             no_cat   \n",
       "\n",
       "                                              sub_cat  code  \n",
       "0                  {'public', 'retail', 'commercial'}     1  \n",
       "1   {'garages', 'industrial', 'depot', 'constructi...     2  \n",
       "2                                     {'residential'}     3  \n",
       "3   {'farmland', 'orchard', 'plant_nursery', 'vine...     4  \n",
       "4   {'village_green', 'grass', 'meadow', 'greenfie...     5  \n",
       "5                                          {'forest'}     6  \n",
       "6                          {'brownfield', 'landfill'}     7  \n",
       "7                 {'basin', 'salt_pond', 'reservoir'}     8  \n",
       "8                                            {'port'}     9  \n",
       "9                           {'religious', 'cemetery'}    10  \n",
       "10                                         {'quarry'}    11  \n",
       "11                                        {'railway'}    12  \n",
       "12                              {'recreation_ground'}    13  \n",
       "13                                              set()    14  "
      ]
     },
     "execution_count": 16,
     "metadata": {},
     "output_type": "execute_result"
    }
   ],
   "source": [
    "cat_dict = pd.read_csv(\"/home/emilioty/ws/datasets/INRIA/INRIA_osm/train/categories.csv\")\n",
    "cat_dict"
   ]
  },
  {
   "cell_type": "code",
   "execution_count": 79,
   "metadata": {},
   "outputs": [],
   "source": [
    "import numpy as np\n",
    "import matplotlib as mpl\n",
    "import matplotlib.pyplot as plt\n",
    "\n",
    "img_name = img_list[100888]\n",
    "def plot_landuse(img):\n",
    "    # define the colormap\n",
    "    cmap = plt.cm.jet\n",
    "    # extract all colors from the .jet map\n",
    "    cmaplist = [cmap(i) for i in range(cmap.N)]\n",
    "    # create the new map\n",
    "    cmap = cmap.from_list('Custom cmap', cmaplist, cmap.N)\n",
    "    \n",
    "    # define the bins and normalize\n",
    "    N = len(cat_dict.code.unique())\n",
    "    bounds = np.linspace(0,N,N+1)\n",
    "    norm = mpl.colors.BoundaryNorm(bounds, cmap.N)\n",
    "    \n",
    "    \n",
    "    #cmap = plt.cm.get_cmap(\"hsv\", len(cat_dict.code.unique()))\n",
    "    plt.figure(figsize=(20,20))\n",
    "    f = plt.imshow(img, cmap=cmap)\n",
    "    cbar = plt.colorbar(f, spacing='proportional', ticks=cat_dict.code.values)\n",
    "    cbar.ax.set_yticklabels(cat_dict.category.values)\n",
    "    plt.show()"
   ]
  },
  {
   "cell_type": "code",
   "execution_count": 80,
   "metadata": {},
   "outputs": [
    {
     "data": {
      "image/png": "[encoded data removed]",
      "text/plain": [
       "<Figure size 1440x1440 with 2 Axes>"
      ]
     },
     "metadata": {
      "needs_background": "light"
     },
     "output_type": "display_data"
    },
    {
     "data": {
      "text/plain": [
       "(None,\n",
       " '/home/emilioty/ws/datasets/INRIA/INRIA_osm/train/patch_descriptor_vectors_full/patch_tyrol-w16_2304_4224.npy')"
      ]
     },
     "execution_count": 80,
     "metadata": {},
     "output_type": "execute_result"
    }
   ],
   "source": [
    "img_name = img_list[100888]\n",
    "img = np.load(img_name)\n",
    "plot_landuse(img), img_name"
   ]
  },
  {
   "cell_type": "code",
   "execution_count": 75,
   "metadata": {},
   "outputs": [
    {
     "data": {
      "image/png": "[encoded data removed]",
      "text/plain": [
       "<Figure size 1440x1440 with 2 Axes>"
      ]
     },
     "metadata": {
      "needs_background": "light"
     },
     "output_type": "display_data"
    },
    {
     "data": {
      "text/plain": [
       "(None,\n",
       " '/home/emilioty/ws/datasets/INRIA/INRIA_osm/train/patch_descriptor_vectors_full/patch_austin20_4224_3712.npy',\n",
       " {1, 3, 5, 6})"
      ]
     },
     "execution_count": 75,
     "metadata": {},
     "output_type": "execute_result"
    }
   ],
   "source": [
    "img_name = img_list[110888]\n",
    "img = np.load(img_name)\n",
    "for i in img: a+=list(i)\n",
    "plot_landuse(img), img_name, set(a)"
   ]
  },
  {
   "cell_type": "code",
   "execution_count": 76,
   "metadata": {},
   "outputs": [
    {
     "data": {
      "text/plain": [
       "<matplotlib.image.AxesImage at 0x7f5c4ed8a5e0>"
      ]
     },
     "execution_count": 76,
     "metadata": {},
     "output_type": "execute_result"
    },
    {
     "data": {
      "image/png": "[encoded data removed]",
      "text/plain": [
       "<Figure size 432x288 with 1 Axes>"
      ]
     },
     "metadata": {
      "needs_background": "light"
     },
     "output_type": "display_data"
    }
   ],
   "source": [
    "plt.imshow(img)"
   ]
  },
  {
   "cell_type": "code",
   "execution_count": 67,
   "metadata": {},
   "outputs": [],
   "source": [
    "name =os.path.basename(img_name).replace(\"patch_\", \"\").replace(\".npy\",\".jpg\")\n",
    "cv2.imread(\"/home/emilioty/ws/datasets/INRIA/INRIA_256_128_background_filtered/train/images/\"+name)"
   ]
  },
  {
   "cell_type": "code",
   "execution_count": 60,
   "metadata": {},
   "outputs": [
    {
     "data": {
      "text/plain": [
       "''"
      ]
     },
     "execution_count": 60,
     "metadata": {},
     "output_type": "execute_result"
    }
   ],
   "source": [
    "name"
   ]
  },
  {
   "cell_type": "code",
   "execution_count": null,
   "metadata": {},
   "outputs": [],
   "source": []
  }
 ],
 "metadata": {
  "kernelspec": {
   "display_name": "Python 3",
   "language": "python",
   "name": "python3"
  },
  "language_info": {
   "codemirror_mode": {
    "name": "ipython",
    "version": 3
   },
   "file_extension": ".py",
   "mimetype": "text/x-python",
   "name": "python",
   "nbconvert_exporter": "python",
   "pygments_lexer": "ipython3",
   "version": "3.8.3"
  }
 },
 "nbformat": 4,
 "nbformat_minor": 4
}
